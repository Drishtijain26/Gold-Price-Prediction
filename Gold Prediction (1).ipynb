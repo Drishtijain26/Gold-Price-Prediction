{
 "cells": [
  {
   "cell_type": "code",
   "execution_count": 1,
   "id": "37d23371",
   "metadata": {},
   "outputs": [],
   "source": [
    "#importing libraries\n",
    "import numpy as np\n",
    "import pandas as pd\n",
    "import matplotlib.pyplot as plt\n",
    "import seaborn as sns\n",
    "from sklearn.model_selection import train_test_split\n",
    "from sklearn import metrics\n"
   ]
  },
  {
   "cell_type": "code",
   "execution_count": 59,
   "id": "026df733",
   "metadata": {},
   "outputs": [
    {
     "name": "stdout",
     "output_type": "stream",
     "text": [
      "           Date          SPX         GLD        USO      SLV   EUR/USD\n",
      "0      1/2/2008  1447.160034   84.860001  78.470001  15.1800  1.471692\n",
      "1      1/3/2008  1447.160034   85.570000  78.370003  15.2850  1.474491\n",
      "2      1/4/2008  1411.630005   85.129997  77.309998  15.1670  1.475492\n",
      "3      1/7/2008  1416.180054   84.769997  75.500000  15.0530  1.468299\n",
      "4      1/8/2008  1390.189941   86.779999  76.059998  15.5900  1.557099\n",
      "...         ...          ...         ...        ...      ...       ...\n",
      "2285   5/8/2018  2671.919922  124.589996  14.060000  15.5100  1.186789\n",
      "2286   5/9/2018  2697.790039  124.330002  14.370000  15.5300  1.184722\n",
      "2287  5/10/2018  2723.070068  125.180000  14.410000  15.7400  1.191753\n",
      "2288  5/14/2018  2730.129883  124.489998  14.380000  15.5600  1.193118\n",
      "2289  5/16/2018  2725.780029  122.543800  14.405800  15.4542  1.182033\n",
      "\n",
      "[2290 rows x 6 columns]\n"
     ]
    }
   ],
   "source": [
    "#read csv file\n",
    "data=pd.read_csv('gold_dataset.csv.csv') \n",
    "print(data)"
   ]
  },
  {
   "cell_type": "code",
   "execution_count": 60,
   "id": "b6781c37",
   "metadata": {},
   "outputs": [
    {
     "data": {
      "text/html": [
       "<div>\n",
       "<style scoped>\n",
       "    .dataframe tbody tr th:only-of-type {\n",
       "        vertical-align: middle;\n",
       "    }\n",
       "\n",
       "    .dataframe tbody tr th {\n",
       "        vertical-align: top;\n",
       "    }\n",
       "\n",
       "    .dataframe thead th {\n",
       "        text-align: right;\n",
       "    }\n",
       "</style>\n",
       "<table border=\"1\" class=\"dataframe\">\n",
       "  <thead>\n",
       "    <tr style=\"text-align: right;\">\n",
       "      <th></th>\n",
       "      <th>Date</th>\n",
       "      <th>SPX</th>\n",
       "      <th>GLD</th>\n",
       "      <th>USO</th>\n",
       "      <th>SLV</th>\n",
       "      <th>EUR/USD</th>\n",
       "    </tr>\n",
       "  </thead>\n",
       "  <tbody>\n",
       "    <tr>\n",
       "      <th>0</th>\n",
       "      <td>1/2/2008</td>\n",
       "      <td>1447.160034</td>\n",
       "      <td>84.860001</td>\n",
       "      <td>78.470001</td>\n",
       "      <td>15.180</td>\n",
       "      <td>1.471692</td>\n",
       "    </tr>\n",
       "    <tr>\n",
       "      <th>1</th>\n",
       "      <td>1/3/2008</td>\n",
       "      <td>1447.160034</td>\n",
       "      <td>85.570000</td>\n",
       "      <td>78.370003</td>\n",
       "      <td>15.285</td>\n",
       "      <td>1.474491</td>\n",
       "    </tr>\n",
       "    <tr>\n",
       "      <th>2</th>\n",
       "      <td>1/4/2008</td>\n",
       "      <td>1411.630005</td>\n",
       "      <td>85.129997</td>\n",
       "      <td>77.309998</td>\n",
       "      <td>15.167</td>\n",
       "      <td>1.475492</td>\n",
       "    </tr>\n",
       "    <tr>\n",
       "      <th>3</th>\n",
       "      <td>1/7/2008</td>\n",
       "      <td>1416.180054</td>\n",
       "      <td>84.769997</td>\n",
       "      <td>75.500000</td>\n",
       "      <td>15.053</td>\n",
       "      <td>1.468299</td>\n",
       "    </tr>\n",
       "    <tr>\n",
       "      <th>4</th>\n",
       "      <td>1/8/2008</td>\n",
       "      <td>1390.189941</td>\n",
       "      <td>86.779999</td>\n",
       "      <td>76.059998</td>\n",
       "      <td>15.590</td>\n",
       "      <td>1.557099</td>\n",
       "    </tr>\n",
       "  </tbody>\n",
       "</table>\n",
       "</div>"
      ],
      "text/plain": [
       "       Date          SPX        GLD        USO     SLV   EUR/USD\n",
       "0  1/2/2008  1447.160034  84.860001  78.470001  15.180  1.471692\n",
       "1  1/3/2008  1447.160034  85.570000  78.370003  15.285  1.474491\n",
       "2  1/4/2008  1411.630005  85.129997  77.309998  15.167  1.475492\n",
       "3  1/7/2008  1416.180054  84.769997  75.500000  15.053  1.468299\n",
       "4  1/8/2008  1390.189941  86.779999  76.059998  15.590  1.557099"
      ]
     },
     "execution_count": 60,
     "metadata": {},
     "output_type": "execute_result"
    }
   ],
   "source": [
    "data.head()     #first 5 rows"
   ]
  },
  {
   "cell_type": "code",
   "execution_count": 61,
   "id": "846c3cee",
   "metadata": {},
   "outputs": [
    {
     "data": {
      "text/html": [
       "<div>\n",
       "<style scoped>\n",
       "    .dataframe tbody tr th:only-of-type {\n",
       "        vertical-align: middle;\n",
       "    }\n",
       "\n",
       "    .dataframe tbody tr th {\n",
       "        vertical-align: top;\n",
       "    }\n",
       "\n",
       "    .dataframe thead th {\n",
       "        text-align: right;\n",
       "    }\n",
       "</style>\n",
       "<table border=\"1\" class=\"dataframe\">\n",
       "  <thead>\n",
       "    <tr style=\"text-align: right;\">\n",
       "      <th></th>\n",
       "      <th>Date</th>\n",
       "      <th>SPX</th>\n",
       "      <th>GLD</th>\n",
       "      <th>USO</th>\n",
       "      <th>SLV</th>\n",
       "      <th>EUR/USD</th>\n",
       "    </tr>\n",
       "  </thead>\n",
       "  <tbody>\n",
       "    <tr>\n",
       "      <th>2285</th>\n",
       "      <td>5/8/2018</td>\n",
       "      <td>2671.919922</td>\n",
       "      <td>124.589996</td>\n",
       "      <td>14.0600</td>\n",
       "      <td>15.5100</td>\n",
       "      <td>1.186789</td>\n",
       "    </tr>\n",
       "    <tr>\n",
       "      <th>2286</th>\n",
       "      <td>5/9/2018</td>\n",
       "      <td>2697.790039</td>\n",
       "      <td>124.330002</td>\n",
       "      <td>14.3700</td>\n",
       "      <td>15.5300</td>\n",
       "      <td>1.184722</td>\n",
       "    </tr>\n",
       "    <tr>\n",
       "      <th>2287</th>\n",
       "      <td>5/10/2018</td>\n",
       "      <td>2723.070068</td>\n",
       "      <td>125.180000</td>\n",
       "      <td>14.4100</td>\n",
       "      <td>15.7400</td>\n",
       "      <td>1.191753</td>\n",
       "    </tr>\n",
       "    <tr>\n",
       "      <th>2288</th>\n",
       "      <td>5/14/2018</td>\n",
       "      <td>2730.129883</td>\n",
       "      <td>124.489998</td>\n",
       "      <td>14.3800</td>\n",
       "      <td>15.5600</td>\n",
       "      <td>1.193118</td>\n",
       "    </tr>\n",
       "    <tr>\n",
       "      <th>2289</th>\n",
       "      <td>5/16/2018</td>\n",
       "      <td>2725.780029</td>\n",
       "      <td>122.543800</td>\n",
       "      <td>14.4058</td>\n",
       "      <td>15.4542</td>\n",
       "      <td>1.182033</td>\n",
       "    </tr>\n",
       "  </tbody>\n",
       "</table>\n",
       "</div>"
      ],
      "text/plain": [
       "           Date          SPX         GLD      USO      SLV   EUR/USD\n",
       "2285   5/8/2018  2671.919922  124.589996  14.0600  15.5100  1.186789\n",
       "2286   5/9/2018  2697.790039  124.330002  14.3700  15.5300  1.184722\n",
       "2287  5/10/2018  2723.070068  125.180000  14.4100  15.7400  1.191753\n",
       "2288  5/14/2018  2730.129883  124.489998  14.3800  15.5600  1.193118\n",
       "2289  5/16/2018  2725.780029  122.543800  14.4058  15.4542  1.182033"
      ]
     },
     "execution_count": 61,
     "metadata": {},
     "output_type": "execute_result"
    }
   ],
   "source": [
    "data.tail()   #last 5 rows"
   ]
  },
  {
   "cell_type": "code",
   "execution_count": 62,
   "id": "5a60ed39",
   "metadata": {},
   "outputs": [
    {
     "name": "stdout",
     "output_type": "stream",
     "text": [
      "<class 'pandas.core.frame.DataFrame'>\n",
      "RangeIndex: 2290 entries, 0 to 2289\n",
      "Data columns (total 6 columns):\n",
      " #   Column   Non-Null Count  Dtype  \n",
      "---  ------   --------------  -----  \n",
      " 0   Date     2290 non-null   object \n",
      " 1   SPX      2290 non-null   float64\n",
      " 2   GLD      2290 non-null   float64\n",
      " 3   USO      2290 non-null   float64\n",
      " 4   SLV      2290 non-null   float64\n",
      " 5   EUR/USD  2290 non-null   float64\n",
      "dtypes: float64(5), object(1)\n",
      "memory usage: 107.5+ KB\n"
     ]
    }
   ],
   "source": [
    "data.info()  # information about column, column labels, the data types etc."
   ]
  },
  {
   "cell_type": "code",
   "execution_count": 63,
   "id": "25157455",
   "metadata": {},
   "outputs": [
    {
     "data": {
      "text/plain": [
       "Date       0\n",
       "SPX        0\n",
       "GLD        0\n",
       "USO        0\n",
       "SLV        0\n",
       "EUR/USD    0\n",
       "dtype: int64"
      ]
     },
     "execution_count": 63,
     "metadata": {},
     "output_type": "execute_result"
    }
   ],
   "source": [
    "data.isnull().sum() #it gives number of missing values"
   ]
  },
  {
   "cell_type": "code",
   "execution_count": 64,
   "id": "2866f2b2",
   "metadata": {},
   "outputs": [
    {
     "data": {
      "text/html": [
       "<div>\n",
       "<style scoped>\n",
       "    .dataframe tbody tr th:only-of-type {\n",
       "        vertical-align: middle;\n",
       "    }\n",
       "\n",
       "    .dataframe tbody tr th {\n",
       "        vertical-align: top;\n",
       "    }\n",
       "\n",
       "    .dataframe thead th {\n",
       "        text-align: right;\n",
       "    }\n",
       "</style>\n",
       "<table border=\"1\" class=\"dataframe\">\n",
       "  <thead>\n",
       "    <tr style=\"text-align: right;\">\n",
       "      <th></th>\n",
       "      <th>SPX</th>\n",
       "      <th>GLD</th>\n",
       "      <th>USO</th>\n",
       "      <th>SLV</th>\n",
       "      <th>EUR/USD</th>\n",
       "    </tr>\n",
       "  </thead>\n",
       "  <tbody>\n",
       "    <tr>\n",
       "      <th>count</th>\n",
       "      <td>2290.000000</td>\n",
       "      <td>2290.000000</td>\n",
       "      <td>2290.000000</td>\n",
       "      <td>2290.000000</td>\n",
       "      <td>2290.000000</td>\n",
       "    </tr>\n",
       "    <tr>\n",
       "      <th>mean</th>\n",
       "      <td>1654.315776</td>\n",
       "      <td>122.732875</td>\n",
       "      <td>31.842221</td>\n",
       "      <td>20.084997</td>\n",
       "      <td>1.283653</td>\n",
       "    </tr>\n",
       "    <tr>\n",
       "      <th>std</th>\n",
       "      <td>519.111540</td>\n",
       "      <td>23.283346</td>\n",
       "      <td>19.523517</td>\n",
       "      <td>7.092566</td>\n",
       "      <td>0.131547</td>\n",
       "    </tr>\n",
       "    <tr>\n",
       "      <th>min</th>\n",
       "      <td>676.530029</td>\n",
       "      <td>70.000000</td>\n",
       "      <td>7.960000</td>\n",
       "      <td>8.850000</td>\n",
       "      <td>1.039047</td>\n",
       "    </tr>\n",
       "    <tr>\n",
       "      <th>25%</th>\n",
       "      <td>1239.874969</td>\n",
       "      <td>109.725000</td>\n",
       "      <td>14.380000</td>\n",
       "      <td>15.570000</td>\n",
       "      <td>1.171313</td>\n",
       "    </tr>\n",
       "    <tr>\n",
       "      <th>50%</th>\n",
       "      <td>1551.434998</td>\n",
       "      <td>120.580002</td>\n",
       "      <td>33.869999</td>\n",
       "      <td>17.268500</td>\n",
       "      <td>1.303297</td>\n",
       "    </tr>\n",
       "    <tr>\n",
       "      <th>75%</th>\n",
       "      <td>2073.010070</td>\n",
       "      <td>132.840004</td>\n",
       "      <td>37.827501</td>\n",
       "      <td>22.882500</td>\n",
       "      <td>1.369971</td>\n",
       "    </tr>\n",
       "    <tr>\n",
       "      <th>max</th>\n",
       "      <td>2872.870117</td>\n",
       "      <td>184.589996</td>\n",
       "      <td>117.480003</td>\n",
       "      <td>47.259998</td>\n",
       "      <td>1.598798</td>\n",
       "    </tr>\n",
       "  </tbody>\n",
       "</table>\n",
       "</div>"
      ],
      "text/plain": [
       "               SPX          GLD          USO          SLV      EUR/USD\n",
       "count  2290.000000  2290.000000  2290.000000  2290.000000  2290.000000\n",
       "mean   1654.315776   122.732875    31.842221    20.084997     1.283653\n",
       "std     519.111540    23.283346    19.523517     7.092566     0.131547\n",
       "min     676.530029    70.000000     7.960000     8.850000     1.039047\n",
       "25%    1239.874969   109.725000    14.380000    15.570000     1.171313\n",
       "50%    1551.434998   120.580002    33.869999    17.268500     1.303297\n",
       "75%    2073.010070   132.840004    37.827501    22.882500     1.369971\n",
       "max    2872.870117   184.589996   117.480003    47.259998     1.598798"
      ]
     },
     "execution_count": 64,
     "metadata": {},
     "output_type": "execute_result"
    }
   ],
   "source": [
    "data.describe() #gives the basic statistics of the dataset"
   ]
  },
  {
   "cell_type": "code",
   "execution_count": 65,
   "id": "fcc6feaf",
   "metadata": {},
   "outputs": [],
   "source": [
    "#Correlation between the data \n",
    "#it can be POSITIVE OR NEGATIVE CORRELATION\n",
    "correlation=data.corr()"
   ]
  },
  {
   "cell_type": "code",
   "execution_count": 66,
   "id": "7b5de5df",
   "metadata": {},
   "outputs": [
    {
     "data": {
      "text/plain": [
       "<Figure size 576x576 with 0 Axes>"
      ]
     },
     "execution_count": 66,
     "metadata": {},
     "output_type": "execute_result"
    },
    {
     "data": {
      "text/plain": [
       "<Figure size 576x576 with 0 Axes>"
      ]
     },
     "metadata": {},
     "output_type": "display_data"
    }
   ],
   "source": [
    "plt.figure(figsize=(8,8))"
   ]
  },
  {
   "cell_type": "code",
   "execution_count": 67,
   "id": "983eacc9",
   "metadata": {},
   "outputs": [
    {
     "data": {
      "text/plain": [
       "<AxesSubplot:>"
      ]
     },
     "execution_count": 67,
     "metadata": {},
     "output_type": "execute_result"
    },
    {
     "data": {
      "image/png": "[encoded data removed]",
      "text/plain": [
       "<Figure size 432x288 with 2 Axes>"
      ]
     },
     "metadata": {
      "needs_background": "light"
     },
     "output_type": "display_data"
    }
   ],
   "source": [
    "sns.heatmap(correlation,cbar=True,square=True,fmt='.1f',annot=True,cmap='Blues') #it gives different shades of the same color for the value to be correlated"
   ]
  },
  {
   "cell_type": "code",
   "execution_count": 68,
   "id": "01eef856",
   "metadata": {},
   "outputs": [
    {
     "name": "stdout",
     "output_type": "stream",
     "text": [
      "SPX        0.049345\n",
      "GLD        1.000000\n",
      "USO       -0.186360\n",
      "SLV        0.866632\n",
      "EUR/USD   -0.024375\n",
      "Name: GLD, dtype: float64\n"
     ]
    }
   ],
   "source": [
    "print(correlation['GLD']) #we can compare about the positive or negative correlated values"
   ]
  },
  {
   "cell_type": "code",
   "execution_count": 69,
   "id": "8b3e8d11",
   "metadata": {},
   "outputs": [
    {
     "name": "stderr",
     "output_type": "stream",
     "text": [
      "C:\\Users\\Admin\\anaconda3\\lib\\site-packages\\seaborn\\distributions.py:2619: FutureWarning: `distplot` is a deprecated function and will be removed in a future version. Please adapt your code to use either `displot` (a figure-level function with similar flexibility) or `histplot` (an axes-level function for histograms).\n",
      "  warnings.warn(msg, FutureWarning)\n"
     ]
    },
    {
     "data": {
      "text/plain": [
       "<AxesSubplot:xlabel='GLD', ylabel='Density'>"
      ]
     },
     "execution_count": 69,
     "metadata": {},
     "output_type": "execute_result"
    },
    {
     "data": {
      "image/png": "[encoded data removed]",
      "text/plain": [
       "<Figure size 432x288 with 1 Axes>"
      ]
     },
     "metadata": {
      "needs_background": "light"
     },
     "output_type": "display_data"
    }
   ],
   "source": [
    "sns.distplot(data['GLD'],color='Red') #it plots the graph"
   ]
  },
  {
   "cell_type": "code",
   "execution_count": 70,
   "id": "2dcaad66",
   "metadata": {},
   "outputs": [],
   "source": [
    "X=data.drop(['Date','GLD'],axis=1)\n",
    "Y=data['GLD']"
   ]
  },
  {
   "cell_type": "code",
   "execution_count": 71,
   "id": "bff53f2c",
   "metadata": {},
   "outputs": [
    {
     "name": "stdout",
     "output_type": "stream",
     "text": [
      "              SPX        USO      SLV   EUR/USD\n",
      "0     1447.160034  78.470001  15.1800  1.471692\n",
      "1     1447.160034  78.370003  15.2850  1.474491\n",
      "2     1411.630005  77.309998  15.1670  1.475492\n",
      "3     1416.180054  75.500000  15.0530  1.468299\n",
      "4     1390.189941  76.059998  15.5900  1.557099\n",
      "...           ...        ...      ...       ...\n",
      "2285  2671.919922  14.060000  15.5100  1.186789\n",
      "2286  2697.790039  14.370000  15.5300  1.184722\n",
      "2287  2723.070068  14.410000  15.7400  1.191753\n",
      "2288  2730.129883  14.380000  15.5600  1.193118\n",
      "2289  2725.780029  14.405800  15.4542  1.182033\n",
      "\n",
      "[2290 rows x 4 columns] 0        84.860001\n",
      "1        85.570000\n",
      "2        85.129997\n",
      "3        84.769997\n",
      "4        86.779999\n",
      "           ...    \n",
      "2285    124.589996\n",
      "2286    124.330002\n",
      "2287    125.180000\n",
      "2288    124.489998\n",
      "2289    122.543800\n",
      "Name: GLD, Length: 2290, dtype: float64\n"
     ]
    }
   ],
   "source": [
    "print(X,Y)"
   ]
  },
  {
   "cell_type": "code",
   "execution_count": 72,
   "id": "8b330737",
   "metadata": {},
   "outputs": [],
   "source": [
    "#Train Test Splitting the data\n",
    "X_train,X_test,Y_train,Y_test = train_test_split(X,Y,test_size=0.2,random_state=2) #random state will do the shuffeling and testsize tells about the size of splitting of data in percentage"
   ]
  },
  {
   "cell_type": "code",
   "execution_count": 73,
   "id": "f996518e",
   "metadata": {},
   "outputs": [
    {
     "data": {
      "text/plain": [
       "RandomForestRegressor()"
      ]
     },
     "execution_count": 73,
     "metadata": {},
     "output_type": "execute_result"
    }
   ],
   "source": [
    "#REGRESSION MODEL\n",
    "from sklearn.ensemble import RandomForestRegressor\n",
    "regressor=RandomForestRegressor(n_estimators=100)\n",
    "regressor.fit(X_train,Y_train)"
   ]
  },
  {
   "cell_type": "code",
   "execution_count": 74,
   "id": "bc46886c",
   "metadata": {},
   "outputs": [
    {
     "name": "stdout",
     "output_type": "stream",
     "text": [
      "[168.1039992   82.14189977 116.11299983 127.63740108 120.73240134\n",
      " 154.78949763 150.17579921 126.32249992 117.41889891 126.01010099\n",
      " 116.65060089 171.75610123 141.44859944 167.9378985  115.16960013\n",
      " 117.52790072 138.33220353 169.83250109 159.7525034  161.84419944\n",
      " 155.11659996 125.17119991 176.32459922 157.40290316 125.19300042\n",
      "  93.73969944  77.32740017 120.81980002 119.00279872 167.4769998\n",
      "  88.02570022 125.20479965  91.18090058 117.75129978 121.18769958\n",
      " 136.00790088 115.51500082 115.37740066 147.35909958 107.24250104\n",
      " 104.3720023   87.10669775 126.62970067 118.10860044 154.18329894\n",
      " 119.64290002 108.27800018 108.08999824  93.16450036 127.04719814\n",
      "  74.80090055 113.67519886 121.2467002  111.19719904 118.89989919\n",
      " 121.03949929 159.26950173 167.72760148 147.20229689  85.79879892\n",
      "  94.41730036  86.73469875  90.48420029 118.98910071 126.4315006\n",
      " 127.47450031 170.49460032 122.2914991  117.22219884  98.27499998\n",
      " 168.59100177 143.2552984  131.7816026  121.09020218 121.26449927\n",
      " 119.71700036 114.6799014  118.40100049 107.28080105 127.9621003\n",
      " 113.92279935 106.93599975 116.90370078 119.89069871  89.01190094\n",
      "  88.24949858 146.57810104 127.24140012 113.47850032 110.03189851\n",
      " 108.23949906  77.53459886 169.34860169 114.13809909 121.60289913\n",
      " 128.04160226 155.04099807  91.65869907 136.59540121 158.79180323\n",
      " 125.82810037 125.43100067 130.50240166 115.12510087 119.97390042\n",
      "  92.21480014 110.08689881 168.55049939 157.86789903 114.25469945\n",
      " 106.58290107  79.81939964 113.32330034 125.952001   107.37489918\n",
      " 119.26580106 155.77340368 159.78979985 120.39120012 133.0924029\n",
      " 101.28739999 117.448998   119.17110021 113.05370073 102.8143989\n",
      " 159.96659852  99.19920025 148.0950994  125.42340091 170.09149936\n",
      " 125.67259907 127.38609748 127.5040023  113.79299934 112.97590073\n",
      " 123.84889892 102.12119881  89.33650005 124.63019947 101.67119961\n",
      " 106.97789912 113.60900074 117.46950096  99.23909947 121.57140008\n",
      " 163.23909871  87.29509871 106.74179989 117.42380072 127.69530103\n",
      " 123.95580048  80.59839922 119.99530077 157.8563985   88.01889979\n",
      " 110.06849967 118.77489923 171.79779913 103.04689861 105.46380035\n",
      " 122.6269002  158.10169797  87.66789823  93.32510028 112.6488004\n",
      " 177.21569917 114.37699986 119.17990037  94.84880084 125.84840018\n",
      " 166.10140148 114.97720062 117.1308013   88.26629864 148.9264009\n",
      " 120.46299955  89.50559966 112.71400008 117.08710048 118.69930128\n",
      "  87.95629915  94.34639991 116.86039992 118.51080165 120.18480065\n",
      " 126.81879749 121.93210021 149.93490018 165.57880094 118.62259965\n",
      " 120.34980156 150.75680037 118.64759938 172.34139881 105.38569932\n",
      " 104.98440094 149.1264009  113.93510089 124.92140098 147.5168993\n",
      " 119.5483012  115.39040047 112.52839991 113.53290151 142.66310157\n",
      " 117.65699782 102.88810021 115.97080114 103.80360149  98.49180017\n",
      " 117.50690067  90.48350048  91.51870065 153.58229954 102.7156994\n",
      " 154.64380102 114.43990125 139.59430024  90.32469838 115.60389932\n",
      " 114.57059954 122.99930082 121.63610027 165.3432011   92.82319961\n",
      " 135.39980143 121.42189916 120.81940056 104.5486     142.26310295\n",
      " 121.78549897 116.66480069 113.38040042 127.062797   122.63839945\n",
      " 125.8688993  121.25270059  86.78709876 132.23000094 143.0294025\n",
      "  92.73189954 158.85110006 159.19760321 126.60949908 165.26719967\n",
      " 108.82879947 110.28410025 103.60799811  94.28280042 127.7465029\n",
      " 106.88950026 161.57980048 121.61970001 131.96380055 130.53070199\n",
      " 160.92560011  90.1710984  175.53670266 128.12390051 126.78759794\n",
      "  86.27959957 124.68739899 150.20259745  89.7119999  106.83319963\n",
      " 109.16919985  83.6779992  136.29679983 154.58680119 138.90160417\n",
      "  73.78060026 152.36560072 125.96130008 126.72259999 127.50979877\n",
      " 108.57609922 156.27779978 114.69230104 116.95340119 125.36199948\n",
      " 154.00840116 121.39219985 156.46459841  93.05900051 125.5908014\n",
      " 125.80310027  87.97280005  92.05009947 126.26319926 128.36090355\n",
      " 113.16910043 117.73859769 120.89650019 127.12539735 119.62000108\n",
      " 135.80940048  93.88679907 119.80840023 113.22580087  94.33529921\n",
      " 108.8239999   86.55909936 108.90339954  89.55589997  92.34660017\n",
      " 131.82470367 162.37890088  89.43889988 119.66980107 133.31180139\n",
      " 123.92050026 128.35610233 101.97809868  89.12829877 131.75730076\n",
      " 120.10650035 108.29370001 166.82970155 115.15870029  86.59829883\n",
      " 118.8444007   90.97749964 161.75769992 116.57180048 121.63769997\n",
      " 160.53659846 120.06459927 112.91169953 108.44359874 126.71209953\n",
      "  75.9026007  102.98059981 127.65860263 121.7513992   92.57349979\n",
      " 132.70440096 118.19490142 115.91269961 154.49070257 159.60420058\n",
      " 110.08739955 154.87229759 119.27610142 160.457301   118.45080059\n",
      " 158.89919978 115.11059934 116.35590038 149.27579928 114.90450078\n",
      " 125.88719885 166.44000001 117.69210009 125.12039951 153.48480351\n",
      " 153.43580273 132.1186996  114.86310034 121.12740206 125.11340089\n",
      "  89.78360034 122.81279976 155.13020158 111.79340049 106.63919988\n",
      " 161.56880069 118.43569963 165.75930021 134.16760075 115.20229925\n",
      " 152.93699825 168.5149005  114.61890026 113.9573012  157.00299975\n",
      "  85.44389868 127.09010007 127.94930066 128.98209914 124.38840057\n",
      " 123.69490085  90.64540077 153.00270081  97.12889971 137.01169999\n",
      "  89.12789926 106.74629974 115.05030056 112.51580088 124.02839911\n",
      "  91.50649875 125.27910138 162.46799868 119.6444992  165.25889999\n",
      " 126.81769756 112.4261002  127.47579926  95.14159937  91.0052999\n",
      " 103.90019924 120.86460025  83.0413995  126.28129987 160.66270488\n",
      " 117.31750106 118.28019982 120.16869996 122.40509957 120.04430143\n",
      " 121.5708001  117.92890051 106.64449971 148.21629953 126.07749823\n",
      " 115.67070085  74.32130011 127.83410112 153.97110098 122.69820031\n",
      " 125.56490031  88.84949993 104.05559915 124.44960038 120.2888004\n",
      "  73.49890113 151.66460003 121.12900036 104.50260001  86.46779783\n",
      " 114.78249919 172.14649813 119.74440062 161.05039769 113.15899925\n",
      " 121.19900017 118.70580107  96.13059984 119.06470003 125.77000046\n",
      " 118.6987992   96.10410104 153.798702   122.20290015 147.46060002\n",
      " 159.15720218 113.92909999 122.40439946 148.16179857 127.28610035\n",
      " 165.86890054 135.80190034 120.1078994  167.37569879 108.25719919\n",
      " 121.65629854 138.378801   105.59469863]\n"
     ]
    }
   ],
   "source": [
    "#PREDTICTING THE TEST DATA\n",
    "test_data_prediction=regressor.predict(X_test)\n",
    "print(test_data_prediction)"
   ]
  },
  {
   "cell_type": "code",
   "execution_count": 75,
   "id": "493b7c4e",
   "metadata": {},
   "outputs": [
    {
     "name": "stdout",
     "output_type": "stream",
     "text": [
      "r2 error: 0.9895162827785834\n"
     ]
    }
   ],
   "source": [
    "#R squared error\n",
    "error=metrics.r2_score(Y_test,test_data_prediction)\n",
    "print('r2 error:',error)"
   ]
  },
  {
   "cell_type": "code",
   "execution_count": 76,
   "id": "073c1c4c",
   "metadata": {},
   "outputs": [
    {
     "data": {
      "image/png": "[encoded data removed]",
      "text/plain": [
       "<Figure size 432x288 with 1 Axes>"
      ]
     },
     "metadata": {
      "needs_background": "light"
     },
     "output_type": "display_data"
    }
   ],
   "source": [
    "Y_test=list(Y_test)\n",
    "plt.plot(Y_test,color='blue',label='Actual Value')\n",
    "plt.plot(test_data_prediction,color='red',label='Predicted Value')\n",
    "plt.title('Actual price vs Predicted Price')\n",
    "plt.xlabel('Number of Values')\n",
    "plt.ylabel('GLD Price')\n",
    "plt.legend()\n",
    "plt.show()"
   ]
  },
  {
   "cell_type": "code",
   "execution_count": 77,
   "id": "1d0bd9a1",
   "metadata": {},
   "outputs": [],
   "source": [
    "#We can conclude that the predicted values are approximatelty same as the actual value so this model is "
   ]
  },
  {
   "cell_type": "code",
   "execution_count": null,
   "id": "52c27af3",
   "metadata": {},
   "outputs": [],
   "source": []
  }
 ],
 "metadata": {
  "kernelspec": {
   "display_name": "Python 3 (ipykernel)",
   "language": "python",
   "name": "python3"
  },
  "language_info": {
   "codemirror_mode": {
    "name": "ipython",
    "version": 3
   },
   "file_extension": ".py",
   "mimetype": "text/x-python",
   "name": "python",
   "nbconvert_exporter": "python",
   "pygments_lexer": "ipython3",
   "version": "3.9.7"
  }
 },
 "nbformat": 4,
 "nbformat_minor": 5
}
